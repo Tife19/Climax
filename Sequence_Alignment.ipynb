{
  "nbformat": 4,
  "nbformat_minor": 0,
  "metadata": {
    "colab": {
      "provenance": [],
      "authorship_tag": "ABX9TyNfLN5MZNeiYYnvxO1ohsKk",
      "include_colab_link": true
    },
    "kernelspec": {
      "name": "python3",
      "display_name": "Python 3"
    },
    "language_info": {
      "name": "python"
    }
  },
  "cells": [
    {
      "cell_type": "markdown",
      "metadata": {
        "id": "view-in-github",
        "colab_type": "text"
      },
      "source": [
        "<a href=\"https://colab.research.google.com/github/Tife19/Climax/blob/main/Sequence_Alignment.ipynb\" target=\"_parent\"><img src=\"https://colab.research.google.com/assets/colab-badge.svg\" alt=\"Open In Colab\"/></a>"
      ]
    },
    {
      "cell_type": "code",
      "execution_count": 3,
      "metadata": {
        "colab": {
          "base_uri": "https://localhost:8080/"
        },
        "id": "WTL92xi79Z48",
        "outputId": "5e127eb2-59ee-4307-e6d9-f3b80405e01f"
      },
      "outputs": [
        {
          "output_type": "stream",
          "name": "stdout",
          "text": [
            "Optimal Alignment Score: 8\n"
          ]
        }
      ],
      "source": [
        "def needleman_wunsch(seq1, seq2, match=3, mismatch=-1, gap=-2):\n",
        "    n, m = len(seq1), len(seq2)\n",
        "\n",
        "    # Initialize DP matrix\n",
        "    dp = [[0 for _ in range(m+1)] for _ in range(n+1)]\n",
        "\n",
        "    # Initialize first row and column with gap penalties\n",
        "    for i in range(1, n+1):\n",
        "        dp[i][0] = i * gap\n",
        "    for j in range(1, m+1):\n",
        "        dp[0][j] = j * gap\n",
        "\n",
        "    # Fill matrix\n",
        "    for i in range(1, n+1):\n",
        "        for j in range(1, m+1):\n",
        "            if seq1[i-1] == seq2[j-1]:\n",
        "                score = match\n",
        "            else:\n",
        "                score = mismatch\n",
        "\n",
        "            dp[i][j] = max(\n",
        "                dp[i-1][j-1] + score,  # diagonal (match/mismatch)\n",
        "                dp[i-1][j] + gap,      # up (gap in seq2)\n",
        "                dp[i][j-1] + gap       # left (gap in seq1)\n",
        "            )\n",
        "\n",
        "    # Optimal score is bottom-right\n",
        "    return dp[n][m], dp\n",
        "\n",
        "\n",
        "# Example\n",
        "s1 = \"ATGCTACGTA\"\n",
        "s2 = \"CGTACGATGC\"\n",
        "\n",
        "score, matrix = needleman_wunsch(s1, s2)\n",
        "print(\"Optimal Alignment Score:\", score)\n"
      ]
    },
    {
      "cell_type": "code",
      "source": [
        "def smith_waterman(seq1, seq2, match=3, mismatch=-1, gap=-2):\n",
        "    n, m = len(seq1), len(seq2)\n",
        "\n",
        "    # Initialize DP matrix\n",
        "    dp = [[0 for _ in range(m+1)] for _ in range(n+1)]\n",
        "    max_score = 0\n",
        "\n",
        "    # Fill matrix\n",
        "    for i in range(1, n+1):\n",
        "        for j in range(1, m+1):\n",
        "            if seq1[i-1] == seq2[j-1]:\n",
        "                score = match\n",
        "            else:\n",
        "                score = mismatch\n",
        "\n",
        "            dp[i][j] = max(\n",
        "                0,                     # local alignment: reset on negative\n",
        "                dp[i-1][j-1] + score,  # diagonal\n",
        "                dp[i-1][j] + gap,      # up\n",
        "                dp[i][j-1] + gap       # left\n",
        "            )\n",
        "            max_score = max(max_score, dp[i][j])\n",
        "\n",
        "    return max_score, dp\n",
        "\n",
        "\n",
        "# Example\n",
        "s1 = \"TATACGTACGCAT\"\n",
        "s2 = \"ATGCGTACATA\"\n",
        "\n",
        "score, matrix = smith_waterman(s1, s2)\n",
        "print(\"Optimal Local Alignment Score:\", score)\n"
      ],
      "metadata": {
        "colab": {
          "base_uri": "https://localhost:8080/"
        },
        "id": "mQrRKOtx_e8l",
        "outputId": "a7ddd248-fc15-4e08-f2c1-2ecf3346bab1"
      },
      "execution_count": 2,
      "outputs": [
        {
          "output_type": "stream",
          "name": "stdout",
          "text": [
            "Optimal Local Alignment Score: 22\n"
          ]
        }
      ]
    },
    {
      "cell_type": "code",
      "source": [],
      "metadata": {
        "id": "3iogSLalAZ3i"
      },
      "execution_count": null,
      "outputs": []
    }
  ]
}